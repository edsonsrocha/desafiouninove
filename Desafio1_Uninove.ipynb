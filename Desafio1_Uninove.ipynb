{
 "cells": [
  {
   "cell_type": "markdown",
   "id": "b896404b-7850-43fc-b103-95331aceb935",
   "metadata": {},
   "source": [
    "## Desafio 1 - Data Science"
   ]
  },
  {
   "cell_type": "markdown",
   "id": "92300192-cffb-4885-b98a-927ee6d4ad27",
   "metadata": {},
   "source": [
    "Para esse desafio, foi escolhido o problema de negócio verificação das classes de produtos mais propícios à insatisfação do cliente através dos dados (Product Quality)."
   ]
  },
  {
   "cell_type": "code",
   "execution_count": 1,
   "id": "021acc16-90db-4ec7-b902-ac9d24288b28",
   "metadata": {},
   "outputs": [],
   "source": [
    "# Importando as bibliotecas necessárias para o desafio 1\n",
    "import pandas as pd\n",
    "import numpy as np\n",
    "import matplotlib.pyplot as plt\n",
    "import seaborn as sns"
   ]
  },
  {
   "cell_type": "markdown",
   "id": "488c5804-ada3-408c-b269-6d2031659b4c",
   "metadata": {},
   "source": [
    "#### *Selecionando os datasets e realizando o tratamento nos dados:*"
   ]
  },
  {
   "cell_type": "code",
   "execution_count": 2,
   "id": "c1b6d62b-5aa0-470b-b623-f2684d96218d",
   "metadata": {},
   "outputs": [],
   "source": [
    "# Carregando \"datasets\" necessários\n",
    "reviews = pd.read_csv('olist_order_reviews_dataset.csv')\n",
    "orders_ds = pd.read_csv('olist_orders_dataset.csv')\n",
    "orders_itens = pd.read_csv('olist_order_items_dataset.csv')\n",
    "products = pd.read_csv('olist_products_dataset.csv')"
   ]
  },
  {
   "cell_type": "code",
   "execution_count": 3,
   "id": "394ad07a-13a0-4414-b34e-9057a1cab055",
   "metadata": {},
   "outputs": [
    {
     "data": {
      "text/html": [
       "<div>\n",
       "<style scoped>\n",
       "    .dataframe tbody tr th:only-of-type {\n",
       "        vertical-align: middle;\n",
       "    }\n",
       "\n",
       "    .dataframe tbody tr th {\n",
       "        vertical-align: top;\n",
       "    }\n",
       "\n",
       "    .dataframe thead th {\n",
       "        text-align: right;\n",
       "    }\n",
       "</style>\n",
       "<table border=\"1\" class=\"dataframe\">\n",
       "  <thead>\n",
       "    <tr style=\"text-align: right;\">\n",
       "      <th></th>\n",
       "      <th>order_id</th>\n",
       "      <th>customer_id</th>\n",
       "      <th>order_status</th>\n",
       "      <th>order_purchase_timestamp</th>\n",
       "      <th>order_approved_at</th>\n",
       "      <th>order_delivered_carrier_date</th>\n",
       "      <th>order_delivered_customer_date</th>\n",
       "      <th>order_estimated_delivery_date</th>\n",
       "      <th>review_id</th>\n",
       "      <th>review_score</th>\n",
       "      <th>...</th>\n",
       "      <th>price</th>\n",
       "      <th>freight_value</th>\n",
       "      <th>product_category_name</th>\n",
       "      <th>product_name_lenght</th>\n",
       "      <th>product_description_lenght</th>\n",
       "      <th>product_photos_qty</th>\n",
       "      <th>product_weight_g</th>\n",
       "      <th>product_length_cm</th>\n",
       "      <th>product_height_cm</th>\n",
       "      <th>product_width_cm</th>\n",
       "    </tr>\n",
       "  </thead>\n",
       "  <tbody>\n",
       "    <tr>\n",
       "      <th>0</th>\n",
       "      <td>e481f51cbdc54678b7cc49136f2d6af7</td>\n",
       "      <td>9ef432eb6251297304e76186b10a928d</td>\n",
       "      <td>delivered</td>\n",
       "      <td>2017-10-02 10:56:33</td>\n",
       "      <td>2017-10-02 11:07:15</td>\n",
       "      <td>2017-10-04 19:55:00</td>\n",
       "      <td>2017-10-10 21:25:13</td>\n",
       "      <td>2017-10-18 00:00:00</td>\n",
       "      <td>a54f0611adc9ed256b57ede6b6eb5114</td>\n",
       "      <td>4.0</td>\n",
       "      <td>...</td>\n",
       "      <td>29.99</td>\n",
       "      <td>8.72</td>\n",
       "      <td>utilidades_domesticas</td>\n",
       "      <td>40.0</td>\n",
       "      <td>268.0</td>\n",
       "      <td>4.0</td>\n",
       "      <td>500.0</td>\n",
       "      <td>19.0</td>\n",
       "      <td>8.0</td>\n",
       "      <td>13.0</td>\n",
       "    </tr>\n",
       "    <tr>\n",
       "      <th>1</th>\n",
       "      <td>53cdb2fc8bc7dce0b6741e2150273451</td>\n",
       "      <td>b0830fb4747a6c6d20dea0b8c802d7ef</td>\n",
       "      <td>delivered</td>\n",
       "      <td>2018-07-24 20:41:37</td>\n",
       "      <td>2018-07-26 03:24:27</td>\n",
       "      <td>2018-07-26 14:31:00</td>\n",
       "      <td>2018-08-07 15:27:45</td>\n",
       "      <td>2018-08-13 00:00:00</td>\n",
       "      <td>8d5266042046a06655c8db133d120ba5</td>\n",
       "      <td>4.0</td>\n",
       "      <td>...</td>\n",
       "      <td>118.70</td>\n",
       "      <td>22.76</td>\n",
       "      <td>perfumaria</td>\n",
       "      <td>29.0</td>\n",
       "      <td>178.0</td>\n",
       "      <td>1.0</td>\n",
       "      <td>400.0</td>\n",
       "      <td>19.0</td>\n",
       "      <td>13.0</td>\n",
       "      <td>19.0</td>\n",
       "    </tr>\n",
       "    <tr>\n",
       "      <th>2</th>\n",
       "      <td>47770eb9100c2d0c44946d9cf07ec65d</td>\n",
       "      <td>41ce2a54c0b03bf3443c3d931a367089</td>\n",
       "      <td>delivered</td>\n",
       "      <td>2018-08-08 08:38:49</td>\n",
       "      <td>2018-08-08 08:55:23</td>\n",
       "      <td>2018-08-08 13:50:00</td>\n",
       "      <td>2018-08-17 18:06:29</td>\n",
       "      <td>2018-09-04 00:00:00</td>\n",
       "      <td>e73b67b67587f7644d5bd1a52deb1b01</td>\n",
       "      <td>5.0</td>\n",
       "      <td>...</td>\n",
       "      <td>159.90</td>\n",
       "      <td>19.22</td>\n",
       "      <td>automotivo</td>\n",
       "      <td>46.0</td>\n",
       "      <td>232.0</td>\n",
       "      <td>1.0</td>\n",
       "      <td>420.0</td>\n",
       "      <td>24.0</td>\n",
       "      <td>19.0</td>\n",
       "      <td>21.0</td>\n",
       "    </tr>\n",
       "    <tr>\n",
       "      <th>3</th>\n",
       "      <td>949d5b44dbf5de918fe9c16f97b45f8a</td>\n",
       "      <td>f88197465ea7920adcdbec7375364d82</td>\n",
       "      <td>delivered</td>\n",
       "      <td>2017-11-18 19:28:06</td>\n",
       "      <td>2017-11-18 19:45:59</td>\n",
       "      <td>2017-11-22 13:39:59</td>\n",
       "      <td>2017-12-02 00:28:42</td>\n",
       "      <td>2017-12-15 00:00:00</td>\n",
       "      <td>359d03e676b3c069f62cadba8dd3f6e8</td>\n",
       "      <td>5.0</td>\n",
       "      <td>...</td>\n",
       "      <td>45.00</td>\n",
       "      <td>27.20</td>\n",
       "      <td>pet_shop</td>\n",
       "      <td>59.0</td>\n",
       "      <td>468.0</td>\n",
       "      <td>3.0</td>\n",
       "      <td>450.0</td>\n",
       "      <td>30.0</td>\n",
       "      <td>10.0</td>\n",
       "      <td>20.0</td>\n",
       "    </tr>\n",
       "    <tr>\n",
       "      <th>4</th>\n",
       "      <td>ad21c59c0840e6cb83a9ceb5573f8159</td>\n",
       "      <td>8ab97904e6daea8866dbdbc4fb7aad2c</td>\n",
       "      <td>delivered</td>\n",
       "      <td>2018-02-13 21:18:39</td>\n",
       "      <td>2018-02-13 22:20:29</td>\n",
       "      <td>2018-02-14 19:46:34</td>\n",
       "      <td>2018-02-16 18:17:02</td>\n",
       "      <td>2018-02-26 00:00:00</td>\n",
       "      <td>e50934924e227544ba8246aeb3770dd4</td>\n",
       "      <td>5.0</td>\n",
       "      <td>...</td>\n",
       "      <td>19.90</td>\n",
       "      <td>8.72</td>\n",
       "      <td>papelaria</td>\n",
       "      <td>38.0</td>\n",
       "      <td>316.0</td>\n",
       "      <td>4.0</td>\n",
       "      <td>250.0</td>\n",
       "      <td>51.0</td>\n",
       "      <td>15.0</td>\n",
       "      <td>15.0</td>\n",
       "    </tr>\n",
       "  </tbody>\n",
       "</table>\n",
       "<p>5 rows × 28 columns</p>\n",
       "</div>"
      ],
      "text/plain": [
       "                           order_id                       customer_id  \\\n",
       "0  e481f51cbdc54678b7cc49136f2d6af7  9ef432eb6251297304e76186b10a928d   \n",
       "1  53cdb2fc8bc7dce0b6741e2150273451  b0830fb4747a6c6d20dea0b8c802d7ef   \n",
       "2  47770eb9100c2d0c44946d9cf07ec65d  41ce2a54c0b03bf3443c3d931a367089   \n",
       "3  949d5b44dbf5de918fe9c16f97b45f8a  f88197465ea7920adcdbec7375364d82   \n",
       "4  ad21c59c0840e6cb83a9ceb5573f8159  8ab97904e6daea8866dbdbc4fb7aad2c   \n",
       "\n",
       "  order_status order_purchase_timestamp    order_approved_at  \\\n",
       "0    delivered      2017-10-02 10:56:33  2017-10-02 11:07:15   \n",
       "1    delivered      2018-07-24 20:41:37  2018-07-26 03:24:27   \n",
       "2    delivered      2018-08-08 08:38:49  2018-08-08 08:55:23   \n",
       "3    delivered      2017-11-18 19:28:06  2017-11-18 19:45:59   \n",
       "4    delivered      2018-02-13 21:18:39  2018-02-13 22:20:29   \n",
       "\n",
       "  order_delivered_carrier_date order_delivered_customer_date  \\\n",
       "0          2017-10-04 19:55:00           2017-10-10 21:25:13   \n",
       "1          2018-07-26 14:31:00           2018-08-07 15:27:45   \n",
       "2          2018-08-08 13:50:00           2018-08-17 18:06:29   \n",
       "3          2017-11-22 13:39:59           2017-12-02 00:28:42   \n",
       "4          2018-02-14 19:46:34           2018-02-16 18:17:02   \n",
       "\n",
       "  order_estimated_delivery_date                         review_id  \\\n",
       "0           2017-10-18 00:00:00  a54f0611adc9ed256b57ede6b6eb5114   \n",
       "1           2018-08-13 00:00:00  8d5266042046a06655c8db133d120ba5   \n",
       "2           2018-09-04 00:00:00  e73b67b67587f7644d5bd1a52deb1b01   \n",
       "3           2017-12-15 00:00:00  359d03e676b3c069f62cadba8dd3f6e8   \n",
       "4           2018-02-26 00:00:00  e50934924e227544ba8246aeb3770dd4   \n",
       "\n",
       "   review_score  ...   price freight_value  product_category_name  \\\n",
       "0           4.0  ...   29.99          8.72  utilidades_domesticas   \n",
       "1           4.0  ...  118.70         22.76             perfumaria   \n",
       "2           5.0  ...  159.90         19.22             automotivo   \n",
       "3           5.0  ...   45.00         27.20               pet_shop   \n",
       "4           5.0  ...   19.90          8.72              papelaria   \n",
       "\n",
       "  product_name_lenght  product_description_lenght product_photos_qty  \\\n",
       "0                40.0                       268.0                4.0   \n",
       "1                29.0                       178.0                1.0   \n",
       "2                46.0                       232.0                1.0   \n",
       "3                59.0                       468.0                3.0   \n",
       "4                38.0                       316.0                4.0   \n",
       "\n",
       "  product_weight_g product_length_cm  product_height_cm  product_width_cm  \n",
       "0            500.0              19.0                8.0              13.0  \n",
       "1            400.0              19.0               13.0              19.0  \n",
       "2            420.0              24.0               19.0              21.0  \n",
       "3            450.0              30.0               10.0              20.0  \n",
       "4            250.0              51.0               15.0              15.0  \n",
       "\n",
       "[5 rows x 28 columns]"
      ]
     },
     "execution_count": 3,
     "metadata": {},
     "output_type": "execute_result"
    }
   ],
   "source": [
    "# Criando 'DataFrame' para o desenvolvimento da EDA\n",
    "df = orders_ds.merge(reviews, on='order_id', how='left')\n",
    "df = df.merge(orders_itens, on='order_id', how='left')\n",
    "df = df.merge(products, on='product_id', how='left')\n",
    "\n",
    "# Visualizando os primeiros registros\n",
    "df.head()"
   ]
  },
  {
   "cell_type": "code",
   "execution_count": 4,
   "id": "6407804a-3a27-497f-807c-35eb10d7e9d4",
   "metadata": {},
   "outputs": [
    {
     "name": "stdout",
     "output_type": "stream",
     "text": [
      "<class 'pandas.core.frame.DataFrame'>\n",
      "Int64Index: 114092 entries, 0 to 114091\n",
      "Data columns (total 28 columns):\n",
      " #   Column                         Non-Null Count   Dtype  \n",
      "---  ------                         --------------   -----  \n",
      " 0   order_id                       114092 non-null  object \n",
      " 1   customer_id                    114092 non-null  object \n",
      " 2   order_status                   114092 non-null  object \n",
      " 3   order_purchase_timestamp       114092 non-null  object \n",
      " 4   order_approved_at              113930 non-null  object \n",
      " 5   order_delivered_carrier_date   112112 non-null  object \n",
      " 6   order_delivered_customer_date  110839 non-null  object \n",
      " 7   order_estimated_delivery_date  114092 non-null  object \n",
      " 8   review_id                      113131 non-null  object \n",
      " 9   review_score                   113131 non-null  float64\n",
      " 10  review_comment_title           13523 non-null   object \n",
      " 11  review_comment_message         48166 non-null   object \n",
      " 12  review_creation_date           113131 non-null  object \n",
      " 13  review_answer_timestamp        113131 non-null  object \n",
      " 14  order_item_id                  113314 non-null  float64\n",
      " 15  product_id                     113314 non-null  object \n",
      " 16  seller_id                      113314 non-null  object \n",
      " 17  shipping_limit_date            113314 non-null  object \n",
      " 18  price                          113314 non-null  float64\n",
      " 19  freight_value                  113314 non-null  float64\n",
      " 20  product_category_name          111702 non-null  object \n",
      " 21  product_name_lenght            111702 non-null  float64\n",
      " 22  product_description_lenght     111702 non-null  float64\n",
      " 23  product_photos_qty             111702 non-null  float64\n",
      " 24  product_weight_g               113296 non-null  float64\n",
      " 25  product_length_cm              113296 non-null  float64\n",
      " 26  product_height_cm              113296 non-null  float64\n",
      " 27  product_width_cm               113296 non-null  float64\n",
      "dtypes: float64(11), object(17)\n",
      "memory usage: 25.2+ MB\n"
     ]
    }
   ],
   "source": [
    "# Visualizando as informações do novo 'DataFrame'\n",
    "df.info()"
   ]
  },
  {
   "cell_type": "code",
   "execution_count": 5,
   "id": "3393d31c-1c90-4395-b9a8-d4e1d32db6d1",
   "metadata": {},
   "outputs": [
    {
     "data": {
      "text/html": [
       "<div>\n",
       "<style scoped>\n",
       "    .dataframe tbody tr th:only-of-type {\n",
       "        vertical-align: middle;\n",
       "    }\n",
       "\n",
       "    .dataframe tbody tr th {\n",
       "        vertical-align: top;\n",
       "    }\n",
       "\n",
       "    .dataframe thead th {\n",
       "        text-align: right;\n",
       "    }\n",
       "</style>\n",
       "<table border=\"1\" class=\"dataframe\">\n",
       "  <thead>\n",
       "    <tr style=\"text-align: right;\">\n",
       "      <th></th>\n",
       "      <th>order_id</th>\n",
       "      <th>customer_id</th>\n",
       "      <th>order_status</th>\n",
       "      <th>order_purchase_timestamp</th>\n",
       "      <th>order_approved_at</th>\n",
       "      <th>order_delivered_carrier_date</th>\n",
       "      <th>order_delivered_customer_date</th>\n",
       "      <th>order_estimated_delivery_date</th>\n",
       "      <th>review_id</th>\n",
       "      <th>review_score</th>\n",
       "      <th>...</th>\n",
       "      <th>price</th>\n",
       "      <th>freight_value</th>\n",
       "      <th>product_category_name</th>\n",
       "      <th>product_name_lenght</th>\n",
       "      <th>product_description_lenght</th>\n",
       "      <th>product_photos_qty</th>\n",
       "      <th>product_weight_g</th>\n",
       "      <th>product_length_cm</th>\n",
       "      <th>product_height_cm</th>\n",
       "      <th>product_width_cm</th>\n",
       "    </tr>\n",
       "  </thead>\n",
       "  <tbody>\n",
       "  </tbody>\n",
       "</table>\n",
       "<p>0 rows × 28 columns</p>\n",
       "</div>"
      ],
      "text/plain": [
       "Empty DataFrame\n",
       "Columns: [order_id, customer_id, order_status, order_purchase_timestamp, order_approved_at, order_delivered_carrier_date, order_delivered_customer_date, order_estimated_delivery_date, review_id, review_score, review_comment_title, review_comment_message, review_creation_date, review_answer_timestamp, order_item_id, product_id, seller_id, shipping_limit_date, price, freight_value, product_category_name, product_name_lenght, product_description_lenght, product_photos_qty, product_weight_g, product_length_cm, product_height_cm, product_width_cm]\n",
       "Index: []\n",
       "\n",
       "[0 rows x 28 columns]"
      ]
     },
     "execution_count": 5,
     "metadata": {},
     "output_type": "execute_result"
    }
   ],
   "source": [
    "# Verificando se existem dados duplicados no 'DataFrame'\n",
    "df.loc[ df.duplicated() ]"
   ]
  },
  {
   "cell_type": "markdown",
   "id": "3830354c-9c41-4b17-aa87-0a5db7539526",
   "metadata": {},
   "source": [
    "- **OBS**: neste primeiro momento não será realizada a verificação e exclusão de dados faltantes, pois as mesmas acontecerá depois da filtragem das \"features\" para a exploração dos dados."
   ]
  },
  {
   "cell_type": "code",
   "execution_count": 6,
   "id": "042fe1fa-ad89-4e03-ba73-43118adc41fe",
   "metadata": {},
   "outputs": [],
   "source": [
    "# Selecionando as features que serão utilizadas para a análise dos dados\n",
    "df = df[['product_category_name', 'review_score', 'price', 'freight_value', 'product_name_lenght', 'product_description_lenght',\n",
    "    'product_photos_qty', 'product_weight_g', 'product_length_cm', 'product_height_cm', 'product_width_cm']]"
   ]
  },
  {
   "cell_type": "code",
   "execution_count": 7,
   "id": "3fd40e6d-738f-4356-b563-816697a8c0ed",
   "metadata": {},
   "outputs": [
    {
     "data": {
      "text/plain": [
       "product_category_name         2390\n",
       "review_score                   961\n",
       "price                          778\n",
       "freight_value                  778\n",
       "product_name_lenght           2390\n",
       "product_description_lenght    2390\n",
       "product_photos_qty            2390\n",
       "product_weight_g               796\n",
       "product_length_cm              796\n",
       "product_height_cm              796\n",
       "product_width_cm               796\n",
       "dtype: int64"
      ]
     },
     "execution_count": 7,
     "metadata": {},
     "output_type": "execute_result"
    }
   ],
   "source": [
    "# Verificando a quantidade de dados faltantes em cada 'feature'\n",
    "df.isnull().sum()"
   ]
  },
  {
   "cell_type": "code",
   "execution_count": 8,
   "id": "2eae78b0-9725-4e5b-847c-fcdf26eb0fbd",
   "metadata": {},
   "outputs": [
    {
     "name": "stdout",
     "output_type": "stream",
     "text": [
      "<class 'pandas.core.frame.DataFrame'>\n",
      "RangeIndex: 110773 entries, 0 to 110772\n",
      "Data columns (total 11 columns):\n",
      " #   Column                      Non-Null Count   Dtype  \n",
      "---  ------                      --------------   -----  \n",
      " 0   product_category_name       110773 non-null  object \n",
      " 1   review_score                110773 non-null  float64\n",
      " 2   price                       110773 non-null  float64\n",
      " 3   freight_value               110773 non-null  float64\n",
      " 4   product_name_lenght         110773 non-null  float64\n",
      " 5   product_description_lenght  110773 non-null  float64\n",
      " 6   product_photos_qty          110773 non-null  float64\n",
      " 7   product_weight_g            110773 non-null  float64\n",
      " 8   product_length_cm           110773 non-null  float64\n",
      " 9   product_height_cm           110773 non-null  float64\n",
      " 10  product_width_cm            110773 non-null  float64\n",
      "dtypes: float64(10), object(1)\n",
      "memory usage: 9.3+ MB\n"
     ]
    }
   ],
   "source": [
    "# Removendo todos os registros que possuem algum dado faltante\n",
    "df.dropna(inplace=True)\n",
    "\n",
    "# Reorganizando os valores de index\n",
    "df.reset_index(drop=True, inplace=True)\n",
    "\n",
    "# Verificando novamente as informações após a filtragem das 'features' e tratamento dos dados\n",
    "df.info()"
   ]
  },
  {
   "cell_type": "markdown",
   "id": "9e66e6ad-de75-4f12-ab05-2a720741ebb7",
   "metadata": {},
   "source": [
    "- **OBS**: a opção pela remoção dos registros com quaisquer dados faltantes ocorreu porque a quantidade dos mesmos representa um percentual baixo em relação à quantidade total de registros no 'DataFrame', apenas 3.319 em um total de 114.092 (aproximadamente 3% dos dados)."
   ]
  },
  {
   "cell_type": "markdown",
   "id": "53dcd4b1-a098-48e7-afb1-f80e04c456d7",
   "metadata": {},
   "source": [
    "#### *EDA - Análise exploratória dos dados:*"
   ]
  },
  {
   "cell_type": "code",
   "execution_count": 9,
   "id": "e443d012-3a18-4798-89ce-0c664d488b08",
   "metadata": {},
   "outputs": [
    {
     "data": {
      "text/html": [
       "<div>\n",
       "<style scoped>\n",
       "    .dataframe tbody tr th:only-of-type {\n",
       "        vertical-align: middle;\n",
       "    }\n",
       "\n",
       "    .dataframe tbody tr th {\n",
       "        vertical-align: top;\n",
       "    }\n",
       "\n",
       "    .dataframe thead th {\n",
       "        text-align: right;\n",
       "    }\n",
       "</style>\n",
       "<table border=\"1\" class=\"dataframe\">\n",
       "  <thead>\n",
       "    <tr style=\"text-align: right;\">\n",
       "      <th></th>\n",
       "      <th>product_category_name</th>\n",
       "      <th>review_score</th>\n",
       "      <th>price</th>\n",
       "      <th>freight_value</th>\n",
       "      <th>product_name_lenght</th>\n",
       "      <th>product_description_lenght</th>\n",
       "      <th>product_photos_qty</th>\n",
       "      <th>product_weight_g</th>\n",
       "      <th>product_length_cm</th>\n",
       "      <th>product_height_cm</th>\n",
       "      <th>product_width_cm</th>\n",
       "    </tr>\n",
       "  </thead>\n",
       "  <tbody>\n",
       "    <tr>\n",
       "      <th>0</th>\n",
       "      <td>utilidades_domesticas</td>\n",
       "      <td>4.0</td>\n",
       "      <td>29.99</td>\n",
       "      <td>8.72</td>\n",
       "      <td>40.0</td>\n",
       "      <td>268.0</td>\n",
       "      <td>4.0</td>\n",
       "      <td>500.0</td>\n",
       "      <td>19.0</td>\n",
       "      <td>8.0</td>\n",
       "      <td>13.0</td>\n",
       "    </tr>\n",
       "    <tr>\n",
       "      <th>1</th>\n",
       "      <td>perfumaria</td>\n",
       "      <td>4.0</td>\n",
       "      <td>118.70</td>\n",
       "      <td>22.76</td>\n",
       "      <td>29.0</td>\n",
       "      <td>178.0</td>\n",
       "      <td>1.0</td>\n",
       "      <td>400.0</td>\n",
       "      <td>19.0</td>\n",
       "      <td>13.0</td>\n",
       "      <td>19.0</td>\n",
       "    </tr>\n",
       "    <tr>\n",
       "      <th>2</th>\n",
       "      <td>automotivo</td>\n",
       "      <td>5.0</td>\n",
       "      <td>159.90</td>\n",
       "      <td>19.22</td>\n",
       "      <td>46.0</td>\n",
       "      <td>232.0</td>\n",
       "      <td>1.0</td>\n",
       "      <td>420.0</td>\n",
       "      <td>24.0</td>\n",
       "      <td>19.0</td>\n",
       "      <td>21.0</td>\n",
       "    </tr>\n",
       "    <tr>\n",
       "      <th>3</th>\n",
       "      <td>pet_shop</td>\n",
       "      <td>5.0</td>\n",
       "      <td>45.00</td>\n",
       "      <td>27.20</td>\n",
       "      <td>59.0</td>\n",
       "      <td>468.0</td>\n",
       "      <td>3.0</td>\n",
       "      <td>450.0</td>\n",
       "      <td>30.0</td>\n",
       "      <td>10.0</td>\n",
       "      <td>20.0</td>\n",
       "    </tr>\n",
       "    <tr>\n",
       "      <th>4</th>\n",
       "      <td>papelaria</td>\n",
       "      <td>5.0</td>\n",
       "      <td>19.90</td>\n",
       "      <td>8.72</td>\n",
       "      <td>38.0</td>\n",
       "      <td>316.0</td>\n",
       "      <td>4.0</td>\n",
       "      <td>250.0</td>\n",
       "      <td>51.0</td>\n",
       "      <td>15.0</td>\n",
       "      <td>15.0</td>\n",
       "    </tr>\n",
       "  </tbody>\n",
       "</table>\n",
       "</div>"
      ],
      "text/plain": [
       "   product_category_name  review_score   price  freight_value  \\\n",
       "0  utilidades_domesticas           4.0   29.99           8.72   \n",
       "1             perfumaria           4.0  118.70          22.76   \n",
       "2             automotivo           5.0  159.90          19.22   \n",
       "3               pet_shop           5.0   45.00          27.20   \n",
       "4              papelaria           5.0   19.90           8.72   \n",
       "\n",
       "   product_name_lenght  product_description_lenght  product_photos_qty  \\\n",
       "0                 40.0                       268.0                 4.0   \n",
       "1                 29.0                       178.0                 1.0   \n",
       "2                 46.0                       232.0                 1.0   \n",
       "3                 59.0                       468.0                 3.0   \n",
       "4                 38.0                       316.0                 4.0   \n",
       "\n",
       "   product_weight_g  product_length_cm  product_height_cm  product_width_cm  \n",
       "0             500.0               19.0                8.0              13.0  \n",
       "1             400.0               19.0               13.0              19.0  \n",
       "2             420.0               24.0               19.0              21.0  \n",
       "3             450.0               30.0               10.0              20.0  \n",
       "4             250.0               51.0               15.0              15.0  "
      ]
     },
     "execution_count": 9,
     "metadata": {},
     "output_type": "execute_result"
    }
   ],
   "source": [
    "# Visualizando novamente os primeiros registros do 'DataFrame' após a filtragem das \"features\"\n",
    "df.head()"
   ]
  },
  {
   "cell_type": "code",
   "execution_count": 10,
   "id": "223e5815-0de6-4a68-bd88-844d5ee7b1f1",
   "metadata": {},
   "outputs": [
    {
     "data": {
      "text/html": [
       "<div>\n",
       "<style scoped>\n",
       "    .dataframe tbody tr th:only-of-type {\n",
       "        vertical-align: middle;\n",
       "    }\n",
       "\n",
       "    .dataframe tbody tr th {\n",
       "        vertical-align: top;\n",
       "    }\n",
       "\n",
       "    .dataframe thead th {\n",
       "        text-align: right;\n",
       "    }\n",
       "</style>\n",
       "<table border=\"1\" class=\"dataframe\">\n",
       "  <thead>\n",
       "    <tr style=\"text-align: right;\">\n",
       "      <th></th>\n",
       "      <th>review_score</th>\n",
       "      <th>price</th>\n",
       "      <th>freight_value</th>\n",
       "      <th>product_name_lenght</th>\n",
       "      <th>product_description_lenght</th>\n",
       "      <th>product_photos_qty</th>\n",
       "      <th>product_weight_g</th>\n",
       "      <th>product_length_cm</th>\n",
       "      <th>product_height_cm</th>\n",
       "      <th>product_width_cm</th>\n",
       "    </tr>\n",
       "  </thead>\n",
       "  <tbody>\n",
       "    <tr>\n",
       "      <th>count</th>\n",
       "      <td>110773.000000</td>\n",
       "      <td>110773.000000</td>\n",
       "      <td>110773.000000</td>\n",
       "      <td>110773.000000</td>\n",
       "      <td>110773.000000</td>\n",
       "      <td>110773.000000</td>\n",
       "      <td>110773.000000</td>\n",
       "      <td>110773.000000</td>\n",
       "      <td>110773.000000</td>\n",
       "      <td>110773.000000</td>\n",
       "    </tr>\n",
       "    <tr>\n",
       "      <th>mean</th>\n",
       "      <td>4.035225</td>\n",
       "      <td>120.482999</td>\n",
       "      <td>20.012116</td>\n",
       "      <td>48.777482</td>\n",
       "      <td>786.793226</td>\n",
       "      <td>2.207117</td>\n",
       "      <td>2096.779143</td>\n",
       "      <td>30.209166</td>\n",
       "      <td>16.609147</td>\n",
       "      <td>23.046491</td>\n",
       "    </tr>\n",
       "    <tr>\n",
       "      <th>std</th>\n",
       "      <td>1.385420</td>\n",
       "      <td>181.828589</td>\n",
       "      <td>15.814205</td>\n",
       "      <td>10.025168</td>\n",
       "      <td>651.612397</td>\n",
       "      <td>1.719793</td>\n",
       "      <td>3751.465382</td>\n",
       "      <td>16.174395</td>\n",
       "      <td>13.461482</td>\n",
       "      <td>11.716425</td>\n",
       "    </tr>\n",
       "    <tr>\n",
       "      <th>min</th>\n",
       "      <td>1.000000</td>\n",
       "      <td>0.850000</td>\n",
       "      <td>0.000000</td>\n",
       "      <td>5.000000</td>\n",
       "      <td>4.000000</td>\n",
       "      <td>1.000000</td>\n",
       "      <td>0.000000</td>\n",
       "      <td>7.000000</td>\n",
       "      <td>2.000000</td>\n",
       "      <td>6.000000</td>\n",
       "    </tr>\n",
       "    <tr>\n",
       "      <th>25%</th>\n",
       "      <td>4.000000</td>\n",
       "      <td>39.900000</td>\n",
       "      <td>13.080000</td>\n",
       "      <td>42.000000</td>\n",
       "      <td>348.000000</td>\n",
       "      <td>1.000000</td>\n",
       "      <td>300.000000</td>\n",
       "      <td>18.000000</td>\n",
       "      <td>8.000000</td>\n",
       "      <td>15.000000</td>\n",
       "    </tr>\n",
       "    <tr>\n",
       "      <th>50%</th>\n",
       "      <td>5.000000</td>\n",
       "      <td>74.900000</td>\n",
       "      <td>16.290000</td>\n",
       "      <td>52.000000</td>\n",
       "      <td>601.000000</td>\n",
       "      <td>1.000000</td>\n",
       "      <td>700.000000</td>\n",
       "      <td>25.000000</td>\n",
       "      <td>13.000000</td>\n",
       "      <td>20.000000</td>\n",
       "    </tr>\n",
       "    <tr>\n",
       "      <th>75%</th>\n",
       "      <td>5.000000</td>\n",
       "      <td>134.900000</td>\n",
       "      <td>21.170000</td>\n",
       "      <td>57.000000</td>\n",
       "      <td>985.000000</td>\n",
       "      <td>3.000000</td>\n",
       "      <td>1800.000000</td>\n",
       "      <td>38.000000</td>\n",
       "      <td>20.000000</td>\n",
       "      <td>30.000000</td>\n",
       "    </tr>\n",
       "    <tr>\n",
       "      <th>max</th>\n",
       "      <td>5.000000</td>\n",
       "      <td>6735.000000</td>\n",
       "      <td>409.680000</td>\n",
       "      <td>76.000000</td>\n",
       "      <td>3992.000000</td>\n",
       "      <td>20.000000</td>\n",
       "      <td>40425.000000</td>\n",
       "      <td>105.000000</td>\n",
       "      <td>105.000000</td>\n",
       "      <td>118.000000</td>\n",
       "    </tr>\n",
       "  </tbody>\n",
       "</table>\n",
       "</div>"
      ],
      "text/plain": [
       "        review_score          price  freight_value  product_name_lenght  \\\n",
       "count  110773.000000  110773.000000  110773.000000        110773.000000   \n",
       "mean        4.035225     120.482999      20.012116            48.777482   \n",
       "std         1.385420     181.828589      15.814205            10.025168   \n",
       "min         1.000000       0.850000       0.000000             5.000000   \n",
       "25%         4.000000      39.900000      13.080000            42.000000   \n",
       "50%         5.000000      74.900000      16.290000            52.000000   \n",
       "75%         5.000000     134.900000      21.170000            57.000000   \n",
       "max         5.000000    6735.000000     409.680000            76.000000   \n",
       "\n",
       "       product_description_lenght  product_photos_qty  product_weight_g  \\\n",
       "count               110773.000000       110773.000000     110773.000000   \n",
       "mean                   786.793226            2.207117       2096.779143   \n",
       "std                    651.612397            1.719793       3751.465382   \n",
       "min                      4.000000            1.000000          0.000000   \n",
       "25%                    348.000000            1.000000        300.000000   \n",
       "50%                    601.000000            1.000000        700.000000   \n",
       "75%                    985.000000            3.000000       1800.000000   \n",
       "max                   3992.000000           20.000000      40425.000000   \n",
       "\n",
       "       product_length_cm  product_height_cm  product_width_cm  \n",
       "count      110773.000000      110773.000000     110773.000000  \n",
       "mean           30.209166          16.609147         23.046491  \n",
       "std            16.174395          13.461482         11.716425  \n",
       "min             7.000000           2.000000          6.000000  \n",
       "25%            18.000000           8.000000         15.000000  \n",
       "50%            25.000000          13.000000         20.000000  \n",
       "75%            38.000000          20.000000         30.000000  \n",
       "max           105.000000         105.000000        118.000000  "
      ]
     },
     "execution_count": 10,
     "metadata": {},
     "output_type": "execute_result"
    }
   ],
   "source": [
    "# Verificando as métricas básicas dos dados\n",
    "df.describe()"
   ]
  },
  {
   "cell_type": "markdown",
   "id": "f751886c-2871-4d5d-977f-42bf911ab4b7",
   "metadata": {},
   "source": [
    "- É possível observar que a grande maioria das pontuações de avaliação dos clientes são iguais ou maiores que 4, pois já nota-se esse valor como resultado do primeiro quartil da 'feature' em questão. Ainda sobre as pontuações, as métricas mostram que a maioria delas é 5, pelo fato da mediana ser nesse valor e os outros 50% dos valores estarem entre 1 e 4 (essas informações ficam mais claras visualizando o gráfico abaixo). Também existem algumas outras com valores expressivos de outliers, mas eles não causarão interferência no objetivo dessa exploração de dados, pois desejamos utlizar o máximo de pontuações para verificar as classes de produtos que estão mais propícios a gerar insatisfação aos clientes."
   ]
  },
  {
   "cell_type": "code",
   "execution_count": 11,
   "id": "da71e685-0422-4be6-9179-53d89496769d",
   "metadata": {},
   "outputs": [
    {
     "data": {
      "image/png": "[encoded data removed]",
      "text/plain": [
       "<Figure size 432x288 with 1 Axes>"
      ]
     },
     "metadata": {
      "needs_background": "light"
     },
     "output_type": "display_data"
    }
   ],
   "source": [
    "# Criando gráfico de barras das avaliações\n",
    "df['review_score'].value_counts().sort_index().plot(kind='bar', title='Quantidade de cada avaliação', xlabel='Pontuação', ylabel='Quantidade', rot=0)\n",
    "plt.show()"
   ]
  },
  {
   "cell_type": "markdown",
   "id": "28c210b6-51d0-4c21-bfbb-2ce8506f147d",
   "metadata": {},
   "source": [
    "- O gráfico confirma as informações descritas acima sobre as notas de avaliações."
   ]
  },
  {
   "cell_type": "code",
   "execution_count": 12,
   "id": "a37dc964-7760-4659-808a-808b460735f8",
   "metadata": {},
   "outputs": [
    {
     "data": {
      "image/png": "[encoded data removed]",
      "text/plain": [
       "<Figure size 432x288 with 1 Axes>"
      ]
     },
     "metadata": {
      "needs_background": "light"
     },
     "output_type": "display_data"
    }
   ],
   "source": [
    "# Criando gráfico histograma referente aos preços dos produtos até 300,00\n",
    "precos_300 = df.loc[ df['price'] <= 300 ]['price']\n",
    "plt.title('Distribuição dos preços (até 300,00)', fontdict={'fontsize': 15})\n",
    "sns.histplot(precos_300)\n",
    "plt.show()"
   ]
  },
  {
   "cell_type": "code",
   "execution_count": 13,
   "id": "9163d27e-c244-4a29-94d5-53edea392887",
   "metadata": {},
   "outputs": [
    {
     "data": {
      "image/png": "[encoded data removed]",
      "text/plain": [
       "<Figure size 432x288 with 1 Axes>"
      ]
     },
     "metadata": {
      "needs_background": "light"
     },
     "output_type": "display_data"
    }
   ],
   "source": [
    "# Criando gráfico histograma referente aos preços dos produtos entre 300,01 e 1.000,00\n",
    "precos_1000 = df.loc[ (df['price'] > 300) & (df['price'] <= 1000) ]['price']\n",
    "plt.title('Distribuição dos preços (entre 300,01 e 1.000,00)')\n",
    "sns.histplot(precos_1000)\n",
    "plt.show()"
   ]
  },
  {
   "cell_type": "code",
   "execution_count": 14,
   "id": "d2452ed5-f928-4c4f-975b-9c46699fe649",
   "metadata": {},
   "outputs": [
    {
     "data": {
      "image/png": "[encoded data removed]",
      "text/plain": [
       "<Figure size 432x288 with 1 Axes>"
      ]
     },
     "metadata": {
      "needs_background": "light"
     },
     "output_type": "display_data"
    }
   ],
   "source": [
    "# Criando gráfico histograma referente aos preços dos produtos acima de 1.000,00\n",
    "precos_acima_1000 = df.loc[ df['price'] > 1000 ]['price']\n",
    "plt.title('Distribuição dos preços (acima de 1.000,00)', fontdict={'fontsize': 15})\n",
    "sns.histplot(precos_acima_1000)\n",
    "plt.show()"
   ]
  },
  {
   "cell_type": "markdown",
   "id": "f986faf5-1ffc-4c59-9a26-6130046f701a",
   "metadata": {},
   "source": [
    "- Devido ao fato de optar pela utilização do máximo de pontuações referentes às avaliações possíveis, o histograma dos preços precisou ser dividido em três partes para melhor visualização, uma vez que os outliers relacionados à eles não foram removidos."
   ]
  },
  {
   "cell_type": "markdown",
   "id": "56be5183-4a8b-4f4a-9297-2937e82438fd",
   "metadata": {},
   "source": [
    "Com o objetivo de localizar as classes mais propensas à insatisfação dos clientes, serão separados em uma nova variável os registros com pontuações entre 1 e 2, possibilitando a análise com a obtenção de mais informações e retornando o resultado final dessa EDA."
   ]
  },
  {
   "cell_type": "code",
   "execution_count": 15,
   "id": "2c33e7d4-9424-4ee2-8aae-6ad079460356",
   "metadata": {},
   "outputs": [
    {
     "data": {
      "text/html": [
       "<div>\n",
       "<style scoped>\n",
       "    .dataframe tbody tr th:only-of-type {\n",
       "        vertical-align: middle;\n",
       "    }\n",
       "\n",
       "    .dataframe tbody tr th {\n",
       "        vertical-align: top;\n",
       "    }\n",
       "\n",
       "    .dataframe thead th {\n",
       "        text-align: right;\n",
       "    }\n",
       "</style>\n",
       "<table border=\"1\" class=\"dataframe\">\n",
       "  <thead>\n",
       "    <tr style=\"text-align: right;\">\n",
       "      <th></th>\n",
       "      <th>product_category_name</th>\n",
       "      <th>review_score</th>\n",
       "      <th>price</th>\n",
       "      <th>freight_value</th>\n",
       "      <th>product_name_lenght</th>\n",
       "      <th>product_description_lenght</th>\n",
       "      <th>product_photos_qty</th>\n",
       "      <th>product_weight_g</th>\n",
       "      <th>product_length_cm</th>\n",
       "      <th>product_height_cm</th>\n",
       "      <th>product_width_cm</th>\n",
       "    </tr>\n",
       "  </thead>\n",
       "  <tbody>\n",
       "    <tr>\n",
       "      <th>0</th>\n",
       "      <td>moveis_decoracao</td>\n",
       "      <td>1.0</td>\n",
       "      <td>19.9</td>\n",
       "      <td>16.05</td>\n",
       "      <td>41.0</td>\n",
       "      <td>432.0</td>\n",
       "      <td>2.0</td>\n",
       "      <td>300.0</td>\n",
       "      <td>35.0</td>\n",
       "      <td>35.0</td>\n",
       "      <td>15.0</td>\n",
       "    </tr>\n",
       "    <tr>\n",
       "      <th>1</th>\n",
       "      <td>ferramentas_jardim</td>\n",
       "      <td>1.0</td>\n",
       "      <td>99.0</td>\n",
       "      <td>30.53</td>\n",
       "      <td>36.0</td>\n",
       "      <td>450.0</td>\n",
       "      <td>1.0</td>\n",
       "      <td>9000.0</td>\n",
       "      <td>42.0</td>\n",
       "      <td>12.0</td>\n",
       "      <td>39.0</td>\n",
       "    </tr>\n",
       "    <tr>\n",
       "      <th>2</th>\n",
       "      <td>ferramentas_jardim</td>\n",
       "      <td>1.0</td>\n",
       "      <td>99.0</td>\n",
       "      <td>30.53</td>\n",
       "      <td>36.0</td>\n",
       "      <td>450.0</td>\n",
       "      <td>1.0</td>\n",
       "      <td>9000.0</td>\n",
       "      <td>42.0</td>\n",
       "      <td>12.0</td>\n",
       "      <td>39.0</td>\n",
       "    </tr>\n",
       "    <tr>\n",
       "      <th>3</th>\n",
       "      <td>beleza_saude</td>\n",
       "      <td>2.0</td>\n",
       "      <td>109.9</td>\n",
       "      <td>8.96</td>\n",
       "      <td>46.0</td>\n",
       "      <td>2345.0</td>\n",
       "      <td>6.0</td>\n",
       "      <td>525.0</td>\n",
       "      <td>21.0</td>\n",
       "      <td>16.0</td>\n",
       "      <td>13.0</td>\n",
       "    </tr>\n",
       "    <tr>\n",
       "      <th>4</th>\n",
       "      <td>cool_stuff</td>\n",
       "      <td>2.0</td>\n",
       "      <td>109.9</td>\n",
       "      <td>15.53</td>\n",
       "      <td>46.0</td>\n",
       "      <td>595.0</td>\n",
       "      <td>2.0</td>\n",
       "      <td>500.0</td>\n",
       "      <td>16.0</td>\n",
       "      <td>12.0</td>\n",
       "      <td>22.0</td>\n",
       "    </tr>\n",
       "  </tbody>\n",
       "</table>\n",
       "</div>"
      ],
      "text/plain": [
       "  product_category_name  review_score  price  freight_value  \\\n",
       "0      moveis_decoracao           1.0   19.9          16.05   \n",
       "1    ferramentas_jardim           1.0   99.0          30.53   \n",
       "2    ferramentas_jardim           1.0   99.0          30.53   \n",
       "3          beleza_saude           2.0  109.9           8.96   \n",
       "4            cool_stuff           2.0  109.9          15.53   \n",
       "\n",
       "   product_name_lenght  product_description_lenght  product_photos_qty  \\\n",
       "0                 41.0                       432.0                 2.0   \n",
       "1                 36.0                       450.0                 1.0   \n",
       "2                 36.0                       450.0                 1.0   \n",
       "3                 46.0                      2345.0                 6.0   \n",
       "4                 46.0                       595.0                 2.0   \n",
       "\n",
       "   product_weight_g  product_length_cm  product_height_cm  product_width_cm  \n",
       "0             300.0               35.0               35.0              15.0  \n",
       "1            9000.0               42.0               12.0              39.0  \n",
       "2            9000.0               42.0               12.0              39.0  \n",
       "3             525.0               21.0               16.0              13.0  \n",
       "4             500.0               16.0               12.0              22.0  "
      ]
     },
     "execution_count": 15,
     "metadata": {},
     "output_type": "execute_result"
    }
   ],
   "source": [
    "# Criando a nova variável com os registros do 'DataFrame' de pontuação ('review_score') entre 1 e 2\n",
    "df_scores_2 = df.loc[ df['review_score'] <= 2 ]\n",
    "df_scores_2.reset_index(drop=True, inplace=True)\n",
    "df_scores_2.head()"
   ]
  },
  {
   "cell_type": "code",
   "execution_count": 16,
   "id": "fdf195e6-f7c3-4445-9917-0af9aea534fd",
   "metadata": {},
   "outputs": [],
   "source": [
    "# Criando variável com a contagem total dos registros de cada categoria\n",
    "qtd_reg_cat = df.groupby('product_category_name')['review_score'].count().sort_values(ascending=False)\n",
    "\n",
    "# Criando variável com a contagem dos registros com avaliações entre 1 e 2 de cada categoria\n",
    "qtd_reg_cat_2 = df_scores_2.groupby('product_category_name')['review_score'].count().sort_values(ascending=False)"
   ]
  },
  {
   "cell_type": "code",
   "execution_count": 17,
   "id": "50a9438e-66b1-4486-b847-144a519319fc",
   "metadata": {
    "tags": []
   },
   "outputs": [
    {
     "data": {
      "image/png": "[encoded data removed]",
      "text/plain": [
       "<Figure size 1008x432 with 1 Axes>"
      ]
     },
     "metadata": {
      "needs_background": "light"
     },
     "output_type": "display_data"
    }
   ],
   "source": [
    "# Criando 'Série' com percentuais de avaliações entre 1 e 2 em relação ao total de cada categoria (apenas os 20 maiores percentuais)\n",
    "perc_reg_cat = (qtd_reg_cat_2 / qtd_reg_cat).sort_values(ascending=False).head(20)\n",
    "plt.figure(figsize=(14, 6))\n",
    "plt.title('Percentual de Avaliações com pontuações entre 1 e 2', fontdict={'fontsize': 15})\n",
    "perc_reg_cat.plot(kind='bar')\n",
    "plt.show()"
   ]
  },
  {
   "cell_type": "markdown",
   "id": "d93c4ffa-d5e4-435f-8a34-b9f9a1bc4b61",
   "metadata": {},
   "source": [
    "- **OBS**: os percentuais listados não levam em consideração a quantidade de registros (avaliações) da categoria, dessa forma não é uma boa conclusão afirmar que, por exemplo, a categoria 'seguros_e_servicos' é a mais propensa a insatisfação dos clientes, pois só existem 2 registros referentes aos produtos da mesma. Para fazer uma análise mais coerente, serão consideradas apenas as categoria que possuirem ao menos 1.000 registros, cerca de 1% do total do 'DataFrame' (110.773)."
   ]
  },
  {
   "cell_type": "code",
   "execution_count": 18,
   "id": "0beee683-4527-45a0-868a-85644bf25cf3",
   "metadata": {},
   "outputs": [
    {
     "name": "stdout",
     "output_type": "stream",
     "text": [
      "\u001b[0mCategoria: seguros_e_servicos | Total de avaliações: 2\n",
      "\u001b[0mCategoria: portateis_cozinha_e_preparadores_de_alimentos | Total de avaliações: 15\n",
      "\u001b[0mCategoria: pc_gamer | Total de avaliações: 9\n",
      "\u001b[0mCategoria: fashion_roupa_masculina | Total de avaliações: 131\n",
      "\u001b[1mCategoria: moveis_escritorio | Total de avaliações: 1687\n",
      "\u001b[0mCategoria: casa_conforto_2 | Total de avaliações: 27\n",
      "\u001b[0mCategoria: fraldas_higiene | Total de avaliações: 39\n",
      "\u001b[0mCategoria: telefonia_fixa | Total de avaliações: 262\n",
      "\u001b[0mCategoria: artigos_de_festas | Total de avaliações: 43\n",
      "\u001b[0mCategoria: la_cuisine | Total de avaliações: 13\n",
      "\u001b[0mCategoria: audio | Total de avaliações: 361\n",
      "\u001b[0mCategoria: moveis_colchao_e_estofado | Total de avaliações: 38\n",
      "\u001b[0mCategoria: casa_conforto | Total de avaliações: 435\n",
      "\u001b[0mCategoria: construcao_ferramentas_seguranca | Total de avaliações: 193\n",
      "\u001b[1mCategoria: moveis_decoracao | Total de avaliações: 8331\n",
      "\u001b[1mCategoria: cama_mesa_banho | Total de avaliações: 11137\n",
      "\u001b[1mCategoria: informatica_acessorios | Total de avaliações: 7849\n",
      "\u001b[0mCategoria: artes | Total de avaliações: 207\n",
      "\u001b[0mCategoria: moveis_sala | Total de avaliações: 502\n",
      "\u001b[0mCategoria: fashion_roupa_feminina | Total de avaliações: 50\n"
     ]
    }
   ],
   "source": [
    "# 'Looping' para verificar a quantidade de registros (avaliações) das 20 categorias com maiores percentuais de pontuações entre 1 e 2\n",
    "for cat in perc_reg_cat.index:\n",
    "    # Teste lógico para destacar as categorias que possuem 1.000 registros ou mais\n",
    "    if qtd_reg_cat[cat] >= 1000:\n",
    "        print(f'\\033[1mCategoria: {cat} | Total de avaliações: {qtd_reg_cat[cat]}')\n",
    "    else:\n",
    "        print(f'\\033[0mCategoria: {cat} | Total de avaliações: {qtd_reg_cat[cat]}')"
   ]
  },
  {
   "cell_type": "code",
   "execution_count": 19,
   "id": "63d9c246-a3b5-48d3-be26-9b072221c481",
   "metadata": {},
   "outputs": [
    {
     "name": "stdout",
     "output_type": "stream",
     "text": [
      "Categoria: moveis_escritorio | Percentual: 26.08%\n",
      "Categoria: moveis_decoracao | Percentual: 19.46%\n",
      "Categoria: cama_mesa_banho | Percentual: 18.96%\n",
      "Categoria: informatica_acessorios | Percentual: 18.61%\n"
     ]
    }
   ],
   "source": [
    "# 'Looping' listando as categorias identificadas na análise\n",
    "categorias = ['moveis_escritorio', 'moveis_decoracao', 'cama_mesa_banho', 'informatica_acessorios']\n",
    "for cat in categorias:\n",
    "    print(f'Categoria: {cat} | Percentual: {round(perc_reg_cat[cat], 4) * 100}%')"
   ]
  },
  {
   "cell_type": "markdown",
   "id": "86a847e2-e851-41ab-98c9-0d3dee1b2bed",
   "metadata": {},
   "source": [
    "#### *Conclusão*"
   ]
  },
  {
   "cell_type": "markdown",
   "id": "5a8cc36c-bcf7-42e2-b6b9-1276679ea820",
   "metadata": {},
   "source": [
    "Após toda a análise e exploração dos dados (EDA), com os \"insights\" e informações obtidas mediante a mesma, podemos concluir que as categorias mais propícias à insatisfação dos clientes, com base no conjunto de dados disponibilizado pela Olist, são as seguintes:\n",
    "- Móveis de Escritório\n",
    "- Móveis de Decoração\n",
    "- Cama, Mesa e Banho\n",
    "- Informática - Acessórios"
   ]
  },
  {
   "cell_type": "code",
   "execution_count": null,
   "id": "313eefee-737d-454c-b5db-42a8c815b062",
   "metadata": {},
   "outputs": [],
   "source": []
  }
 ],
 "metadata": {
  "kernelspec": {
   "display_name": "Python 3",
   "language": "python",
   "name": "python3"
  },
  "language_info": {
   "codemirror_mode": {
    "name": "ipython",
    "version": 3
   },
   "file_extension": ".py",
   "mimetype": "text/x-python",
   "name": "python",
   "nbconvert_exporter": "python",
   "pygments_lexer": "ipython3",
   "version": "3.8.8"
  }
 },
 "nbformat": 4,
 "nbformat_minor": 5
}
